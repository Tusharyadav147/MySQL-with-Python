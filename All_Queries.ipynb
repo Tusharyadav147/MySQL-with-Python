{
 "cells": [
  {
   "cell_type": "markdown",
   "metadata": {},
   "source": [
    "### Connect MySQL with python"
   ]
  },
  {
   "cell_type": "code",
   "execution_count": 2,
   "metadata": {},
   "outputs": [],
   "source": [
    "import mysql.connector as connection"
   ]
  },
  {
   "cell_type": "code",
   "execution_count": 25,
   "metadata": {},
   "outputs": [],
   "source": [
    "mydb = connection.connect(host = \"localhost\", user = \"root\", password = \"Tushar0420&\", use_pure = True)\n",
    "mydb.is_connected()"
   ]
  },
  {
   "cell_type": "markdown",
   "metadata": {},
   "source": [
    "### Query to print all databases name"
   ]
  },
  {
   "cell_type": "code",
   "execution_count": 27,
   "metadata": {},
   "outputs": [
    {
     "data": {
      "text/plain": [
       "[('information_schema',),\n",
       " ('mysql',),\n",
       " ('performance_schema',),\n",
       " ('qafox',),\n",
       " ('sakila',),\n",
       " ('student',),\n",
       " ('sys',),\n",
       " ('world',)]"
      ]
     },
     "execution_count": 27,
     "metadata": {},
     "output_type": "execute_result"
    }
   ],
   "source": [
    "try:\n",
    "    cursor = mydb.cursor()\n",
    "    query = \"show databases;\"\n",
    "    cursor.execute(query)\n",
    "    cursor.fetchall()\n",
    "\n",
    "except Exception as e:\n",
    "    mydb.close()\n",
    "    print(str(e))"
   ]
  },
  {
   "cell_type": "markdown",
   "metadata": {},
   "source": [
    "### Print Table name in database"
   ]
  },
  {
   "cell_type": "code",
   "execution_count": 52,
   "metadata": {},
   "outputs": [
    {
     "data": {
      "text/plain": [
       "True"
      ]
     },
     "execution_count": 52,
     "metadata": {},
     "output_type": "execute_result"
    }
   ],
   "source": [
    "mydb = connection.connect(host = \"localhost\", database = \"qafox\", user = \"root\", password = \"Tushar0420&\", use_pure = True)\n",
    "mydb.is_connected()"
   ]
  },
  {
   "cell_type": "code",
   "execution_count": 54,
   "metadata": {},
   "outputs": [
    {
     "name": "stdout",
     "output_type": "stream",
     "text": [
      "MySQL Connection not available.\n"
     ]
    }
   ],
   "source": [
    "try:\n",
    "    cursor = mydb.cursor()\n",
    "    query = \"show tables\"\n",
    "    cursor.execute(query)\n",
    "    print(cursor.fetchall())\n",
    "    mydb.close()\n",
    "\n",
    "except Exception as e:\n",
    "    mydb.close()\n",
    "    print(str(e))"
   ]
  },
  {
   "cell_type": "markdown",
   "metadata": {},
   "source": [
    "### Create DataBase"
   ]
  },
  {
   "cell_type": "code",
   "execution_count": 5,
   "metadata": {},
   "outputs": [],
   "source": [
    "try:\n",
    "    cursor = mydb.cursor() #create a cursor to execute queries\n",
    "    query = \"Create database Student;\"\n",
    "    cursor.execute(query)\n",
    "    mydb.close()\n",
    "\n",
    "except Exception as e:\n",
    "    mydb.close()\n",
    "    print(str(e))"
   ]
  },
  {
   "cell_type": "markdown",
   "metadata": {},
   "source": [
    "### Create Table in Database"
   ]
  },
  {
   "cell_type": "code",
   "execution_count": 50,
   "metadata": {},
   "outputs": [
    {
     "data": {
      "text/plain": [
       "True"
      ]
     },
     "execution_count": 50,
     "metadata": {},
     "output_type": "execute_result"
    }
   ],
   "source": [
    "mydb = connection.connect(host = \"localhost\", database = \"Student\", user = \"root\", password = \"Tushar0420&\", use_pure = True)\n",
    "mydb.is_connected()"
   ]
  },
  {
   "cell_type": "code",
   "execution_count": 44,
   "metadata": {},
   "outputs": [],
   "source": [
    "cursor = mydb.cursor()\n",
    "query = \"CREATE TABLE EMPLOYEE2( FIRST_NAME CHAR(20) NOT NULL, LAST_NAME CHAR(20), AGE INT, SEX CHAR(1), INCOME FLOAT );\"\n",
    "cursor.execute(query)"
   ]
  },
  {
   "cell_type": "code",
   "execution_count": 48,
   "metadata": {},
   "outputs": [
    {
     "name": "stdout",
     "output_type": "stream",
     "text": [
      "Table Created!\n"
     ]
    }
   ],
   "source": [
    "try:\n",
    "    query  = \"create table details(x1 INT(5) , x2 VARCHAR(20), x3 DATE)\"\n",
    "    cur = mydb.cursor()\n",
    "    cur.execute(query)\n",
    "    print(\"Table Created!\")\n",
    "    mydb.close()\n",
    "\n",
    "except Exception as e:\n",
    "    mydb.close()\n",
    "    print(str(e))"
   ]
  },
  {
   "cell_type": "code",
   "execution_count": 51,
   "metadata": {},
   "outputs": [
    {
     "name": "stdout",
     "output_type": "stream",
     "text": [
      "[('details',), ('employee',), ('employee1',), ('employee2',)]\n"
     ]
    }
   ],
   "source": [
    "try:\n",
    "    cursor = mydb.cursor()\n",
    "    query = \"show tables\"\n",
    "    cursor.execute(query)\n",
    "    print(cursor.fetchall())\n",
    "    mydb.close()\n",
    "\n",
    "except Exception as e:\n",
    "    mydb.close()\n",
    "    print(str(e))"
   ]
  },
  {
   "cell_type": "markdown",
   "metadata": {},
   "source": [
    "### Insert Data into table"
   ]
  },
  {
   "cell_type": "code",
   "execution_count": 55,
   "metadata": {},
   "outputs": [
    {
     "data": {
      "text/plain": [
       "True"
      ]
     },
     "execution_count": 55,
     "metadata": {},
     "output_type": "execute_result"
    }
   ],
   "source": [
    "mydb = connection.connect(host = \"localhost\", database = \"Student\", user = \"root\", password = \"Tushar0420&\", use_pure = True)\n",
    "mydb.is_connected()"
   ]
  },
  {
   "cell_type": "code",
   "execution_count": 56,
   "metadata": {},
   "outputs": [
    {
     "name": "stdout",
     "output_type": "stream",
     "text": [
      "Value inserted into the table!!\n"
     ]
    }
   ],
   "source": [
    "try: \n",
    "    query  = \"insert into details values(4548, 'sonp', '2021-05-15')\"   #yyyy-mm-dd is the only formate for date & always use '' in the values block\n",
    "    cur = mydb.cursor()\n",
    "    cur.execute(query)\n",
    "    print(\"Value inserted into the table!!\")\n",
    "    mydb.commit()\n",
    "    \n",
    "    query = \"insert  into details values(0420,'Tushar','2000-04-20')\"\n",
    "    cur.execute(query)       #how many no. of time we execute query data upload that times\n",
    "    mydb.commit()            #without commit statment data is not inserted\n",
    "    mydb.close()\n",
    "\n",
    "except Exception as e:\n",
    "    mydb.close()\n",
    "    print(str(e))"
   ]
  },
  {
   "cell_type": "markdown",
   "metadata": {},
   "source": [
    "### Fetch data from table"
   ]
  },
  {
   "cell_type": "code",
   "execution_count": 58,
   "metadata": {},
   "outputs": [
    {
     "data": {
      "text/plain": [
       "True"
      ]
     },
     "execution_count": 58,
     "metadata": {},
     "output_type": "execute_result"
    }
   ],
   "source": [
    "mydb = connection.connect(host = \"localhost\", database = \"Student\", user = \"root\", password = \"Tushar0420&\", use_pure = True)\n",
    "mydb.is_connected()"
   ]
  },
  {
   "cell_type": "code",
   "execution_count": 59,
   "metadata": {},
   "outputs": [
    {
     "name": "stdout",
     "output_type": "stream",
     "text": [
      "(4548, 'sonp', datetime.date(2021, 5, 15))\n",
      "(420, 'Tushar', datetime.date(2000, 4, 20))\n",
      "(4548, 'sonp')\n",
      "(420, 'Tushar')\n"
     ]
    }
   ],
   "source": [
    "try:\n",
    "    query  = \"select * from details;\"     # * means all columns\n",
    "    cur = mydb.cursor()\n",
    "    cur.execute(query)\n",
    "    for i in cur.fetchall():     #fetchall fet the data\n",
    "        print(i)\n",
    "    \n",
    "    query  = \"select x1,x2 from details;\"\n",
    "    cur = mydb.cursor()\n",
    "    cur.execute(query)\n",
    "    for i in cur.fetchall():     #this time date is not be fetched\n",
    "        print(i)\n",
    "    mydb.close()\n",
    "\n",
    "except Exception as e:\n",
    "    mydb.close()\n",
    "    print(str(e))"
   ]
  },
  {
   "cell_type": "markdown",
   "metadata": {},
   "source": [
    "### Fetch and make a csv file of that data with selecting database"
   ]
  },
  {
   "cell_type": "code",
   "execution_count": 60,
   "metadata": {},
   "outputs": [
    {
     "data": {
      "text/plain": [
       "True"
      ]
     },
     "execution_count": 60,
     "metadata": {},
     "output_type": "execute_result"
    }
   ],
   "source": [
    "mydb = connection.connect(host = \"localhost\", user = \"root\", password = \"Tushar0420&\", use_pure = True)\n",
    "mydb.is_connected()"
   ]
  },
  {
   "cell_type": "code",
   "execution_count": 61,
   "metadata": {},
   "outputs": [
    {
     "name": "stdout",
     "output_type": "stream",
     "text": [
      "     x1      x2          x3\n",
      "0  4548    sonp  2021-05-15\n",
      "1   420  Tushar  2000-04-20\n"
     ]
    },
    {
     "name": "stderr",
     "output_type": "stream",
     "text": [
      "C:\\Users\\yadav\\AppData\\Roaming\\Python\\Python39\\site-packages\\pandas\\io\\sql.py:761: UserWarning: pandas only support SQLAlchemy connectable(engine/connection) ordatabase string URI or sqlite3 DBAPI2 connectionother DBAPI2 objects are not tested, please consider using SQLAlchemy\n",
      "  warnings.warn(\n"
     ]
    }
   ],
   "source": [
    "import pandas as pd\n",
    "\n",
    "try:\n",
    "    query = \"select * from Student.details\"      # * means all the available cloumns in the dataset\n",
    "    result = pd.read_sql(query,mydb)\n",
    "    print(result)\n",
    "    result.to_csv(\"mydata.csv\")      #make a csv file and write the data init.\n",
    "    mydb.close()\n",
    "\n",
    "except Exception as e:\n",
    "    mydb.close()\n",
    "    print(str(e))"
   ]
  },
  {
   "cell_type": "markdown",
   "metadata": {},
   "source": [
    "### Insert Multiple data from CSV file"
   ]
  },
  {
   "cell_type": "code",
   "execution_count": 75,
   "metadata": {},
   "outputs": [
    {
     "data": {
      "text/plain": [
       "True"
      ]
     },
     "execution_count": 75,
     "metadata": {},
     "output_type": "execute_result"
    }
   ],
   "source": [
    "mydb = connection.connect(host = \"localhost\", database = \"Student\", user = \"root\", password = \"Tushar0420&\", use_pure = True)\n",
    "mydb.is_connected()"
   ]
  },
  {
   "cell_type": "code",
   "execution_count": 76,
   "metadata": {},
   "outputs": [
    {
     "data": {
      "text/html": [
       "<div>\n",
       "<style scoped>\n",
       "    .dataframe tbody tr th:only-of-type {\n",
       "        vertical-align: middle;\n",
       "    }\n",
       "\n",
       "    .dataframe tbody tr th {\n",
       "        vertical-align: top;\n",
       "    }\n",
       "\n",
       "    .dataframe thead th {\n",
       "        text-align: right;\n",
       "    }\n",
       "</style>\n",
       "<table border=\"1\" class=\"dataframe\">\n",
       "  <thead>\n",
       "    <tr style=\"text-align: right;\">\n",
       "      <th></th>\n",
       "      <th>sepal_length</th>\n",
       "      <th>sepal_width</th>\n",
       "      <th>petal_length</th>\n",
       "      <th>petal_width</th>\n",
       "      <th>species</th>\n",
       "    </tr>\n",
       "  </thead>\n",
       "  <tbody>\n",
       "    <tr>\n",
       "      <th>0</th>\n",
       "      <td>5.1</td>\n",
       "      <td>3.5</td>\n",
       "      <td>1.4</td>\n",
       "      <td>0.2</td>\n",
       "      <td>setosa</td>\n",
       "    </tr>\n",
       "    <tr>\n",
       "      <th>1</th>\n",
       "      <td>4.9</td>\n",
       "      <td>3.0</td>\n",
       "      <td>1.4</td>\n",
       "      <td>0.2</td>\n",
       "      <td>setosa</td>\n",
       "    </tr>\n",
       "    <tr>\n",
       "      <th>2</th>\n",
       "      <td>4.7</td>\n",
       "      <td>3.2</td>\n",
       "      <td>1.3</td>\n",
       "      <td>0.2</td>\n",
       "      <td>setosa</td>\n",
       "    </tr>\n",
       "    <tr>\n",
       "      <th>3</th>\n",
       "      <td>4.6</td>\n",
       "      <td>3.1</td>\n",
       "      <td>1.5</td>\n",
       "      <td>0.2</td>\n",
       "      <td>setosa</td>\n",
       "    </tr>\n",
       "    <tr>\n",
       "      <th>4</th>\n",
       "      <td>5.0</td>\n",
       "      <td>3.6</td>\n",
       "      <td>1.4</td>\n",
       "      <td>0.2</td>\n",
       "      <td>setosa</td>\n",
       "    </tr>\n",
       "  </tbody>\n",
       "</table>\n",
       "</div>"
      ],
      "text/plain": [
       "   sepal_length  sepal_width  petal_length  petal_width species\n",
       "0           5.1          3.5           1.4          0.2  setosa\n",
       "1           4.9          3.0           1.4          0.2  setosa\n",
       "2           4.7          3.2           1.3          0.2  setosa\n",
       "3           4.6          3.1           1.5          0.2  setosa\n",
       "4           5.0          3.6           1.4          0.2  setosa"
      ]
     },
     "execution_count": 76,
     "metadata": {},
     "output_type": "execute_result"
    }
   ],
   "source": [
    "import pandas as pd\n",
    "irisData = pd.read_csv('https://github.com/Muhd-Shahid/Write-Raw-File-into-Database-Server/raw/main/iris.csv',index_col=False)\n",
    "irisData.head()"
   ]
  },
  {
   "cell_type": "code",
   "execution_count": 77,
   "metadata": {},
   "outputs": [
    {
     "name": "stdout",
     "output_type": "stream",
     "text": [
      "iris table is created....\n",
      "Record was inserted\n"
     ]
    }
   ],
   "source": [
    "import pandas as pd\n",
    "\n",
    "try:\n",
    "    cursor = mydb.cursor()\n",
    "    query = 'DROP TABLE IF EXISTS iris;'\n",
    "    cursor.execute(query)\n",
    "\n",
    "    cursor.execute(\"CREATE TABLE iris (sepal_length FLOAT(2,1) NOT NULL, sepal_width FLOAT(2,1) NOT NULL, petal_length FLOAT(2,1) NOT NULL, petal_width FLOAT(2,1),species CHAR(11)NOT NULL)\")\n",
    "    print(\"iris table is created....\")\n",
    "    \n",
    "    for i,row in irisData.iterrows():\n",
    "        query = \"INSERT INTO iris VALUES (%s,%s,%s,%s,%s)\"\n",
    "        cursor.execute(query, tuple(row))\n",
    "        mydb.commit()\n",
    "    print(\"Record was inserted\")\n",
    "\n",
    "except Exception as e:\n",
    "    mydb.close()\n",
    "    print(str(e))"
   ]
  },
  {
   "cell_type": "code",
   "execution_count": 78,
   "metadata": {},
   "outputs": [
    {
     "name": "stdout",
     "output_type": "stream",
     "text": [
      "(5.1, 3.5, 1.4, 0.2, 'setosa')\n",
      "(4.9, 3.0, 1.4, 0.2, 'setosa')\n",
      "(4.7, 3.2, 1.3, 0.2, 'setosa')\n",
      "(4.6, 3.1, 1.5, 0.2, 'setosa')\n",
      "(5.0, 3.6, 1.4, 0.2, 'setosa')\n",
      "(5.4, 3.9, 1.7, 0.4, 'setosa')\n",
      "(4.6, 3.4, 1.4, 0.3, 'setosa')\n",
      "(5.0, 3.4, 1.5, 0.2, 'setosa')\n",
      "(4.4, 2.9, 1.4, 0.2, 'setosa')\n",
      "(4.9, 3.1, 1.5, 0.1, 'setosa')\n",
      "(5.4, 3.7, 1.5, 0.2, 'setosa')\n",
      "(4.8, 3.4, 1.6, 0.2, 'setosa')\n",
      "(4.8, 3.0, 1.4, 0.1, 'setosa')\n",
      "(4.3, 3.0, 1.1, 0.1, 'setosa')\n",
      "(5.8, 4.0, 1.2, 0.2, 'setosa')\n",
      "(5.7, 4.4, 1.5, 0.4, 'setosa')\n",
      "(5.4, 3.9, 1.3, 0.4, 'setosa')\n",
      "(5.1, 3.5, 1.4, 0.3, 'setosa')\n",
      "(5.7, 3.8, 1.7, 0.3, 'setosa')\n",
      "(5.1, 3.8, 1.5, 0.3, 'setosa')\n",
      "(5.4, 3.4, 1.7, 0.2, 'setosa')\n",
      "(5.1, 3.7, 1.5, 0.4, 'setosa')\n",
      "(4.6, 3.6, 1.0, 0.2, 'setosa')\n",
      "(5.1, 3.3, 1.7, 0.5, 'setosa')\n",
      "(4.8, 3.4, 1.9, 0.2, 'setosa')\n",
      "(5.0, 3.0, 1.6, 0.2, 'setosa')\n",
      "(5.0, 3.4, 1.6, 0.4, 'setosa')\n",
      "(5.2, 3.5, 1.5, 0.2, 'setosa')\n",
      "(5.2, 3.4, 1.4, 0.2, 'setosa')\n",
      "(4.7, 3.2, 1.6, 0.2, 'setosa')\n",
      "(4.8, 3.1, 1.6, 0.2, 'setosa')\n",
      "(5.4, 3.4, 1.5, 0.4, 'setosa')\n",
      "(5.2, 4.1, 1.5, 0.1, 'setosa')\n",
      "(5.5, 4.2, 1.4, 0.2, 'setosa')\n",
      "(4.9, 3.1, 1.5, 0.2, 'setosa')\n",
      "(5.0, 3.2, 1.2, 0.2, 'setosa')\n",
      "(5.5, 3.5, 1.3, 0.2, 'setosa')\n",
      "(4.9, 3.6, 1.4, 0.1, 'setosa')\n",
      "(4.4, 3.0, 1.3, 0.2, 'setosa')\n",
      "(5.1, 3.4, 1.5, 0.2, 'setosa')\n",
      "(5.0, 3.5, 1.3, 0.3, 'setosa')\n",
      "(4.5, 2.3, 1.3, 0.3, 'setosa')\n",
      "(4.4, 3.2, 1.3, 0.2, 'setosa')\n",
      "(5.0, 3.5, 1.6, 0.6, 'setosa')\n",
      "(5.1, 3.8, 1.9, 0.4, 'setosa')\n",
      "(4.8, 3.0, 1.4, 0.3, 'setosa')\n",
      "(5.1, 3.8, 1.6, 0.2, 'setosa')\n",
      "(4.6, 3.2, 1.4, 0.2, 'setosa')\n",
      "(5.3, 3.7, 1.5, 0.2, 'setosa')\n",
      "(5.0, 3.3, 1.4, 0.2, 'setosa')\n",
      "(7.0, 3.2, 4.7, 1.4, 'versicolor')\n",
      "(6.4, 3.2, 4.5, 1.5, 'versicolor')\n",
      "(6.9, 3.1, 4.9, 1.5, 'versicolor')\n",
      "(5.5, 2.3, 4.0, 1.3, 'versicolor')\n",
      "(6.5, 2.8, 4.6, 1.5, 'versicolor')\n",
      "(5.7, 2.8, 4.5, 1.3, 'versicolor')\n",
      "(6.3, 3.3, 4.7, 1.6, 'versicolor')\n",
      "(4.9, 2.4, 3.3, 1.0, 'versicolor')\n",
      "(6.6, 2.9, 4.6, 1.3, 'versicolor')\n",
      "(5.2, 2.7, 3.9, 1.4, 'versicolor')\n",
      "(5.0, 2.0, 3.5, 1.0, 'versicolor')\n",
      "(5.9, 3.0, 4.2, 1.5, 'versicolor')\n",
      "(6.0, 2.2, 4.0, 1.0, 'versicolor')\n",
      "(6.1, 2.9, 4.7, 1.4, 'versicolor')\n",
      "(5.6, 2.9, 3.6, 1.3, 'versicolor')\n",
      "(6.7, 3.1, 4.4, 1.4, 'versicolor')\n",
      "(5.6, 3.0, 4.5, 1.5, 'versicolor')\n",
      "(5.8, 2.7, 4.1, 1.0, 'versicolor')\n",
      "(6.2, 2.2, 4.5, 1.5, 'versicolor')\n",
      "(5.6, 2.5, 3.9, 1.1, 'versicolor')\n",
      "(5.9, 3.2, 4.8, 1.8, 'versicolor')\n",
      "(6.1, 2.8, 4.0, 1.3, 'versicolor')\n",
      "(6.3, 2.5, 4.9, 1.5, 'versicolor')\n",
      "(6.1, 2.8, 4.7, 1.2, 'versicolor')\n",
      "(6.4, 2.9, 4.3, 1.3, 'versicolor')\n",
      "(6.6, 3.0, 4.4, 1.4, 'versicolor')\n",
      "(6.8, 2.8, 4.8, 1.4, 'versicolor')\n",
      "(6.7, 3.0, 5.0, 1.7, 'versicolor')\n",
      "(6.0, 2.9, 4.5, 1.5, 'versicolor')\n",
      "(5.7, 2.6, 3.5, 1.0, 'versicolor')\n",
      "(5.5, 2.4, 3.8, 1.1, 'versicolor')\n",
      "(5.5, 2.4, 3.7, 1.0, 'versicolor')\n",
      "(5.8, 2.7, 3.9, 1.2, 'versicolor')\n",
      "(6.0, 2.7, 5.1, 1.6, 'versicolor')\n",
      "(5.4, 3.0, 4.5, 1.5, 'versicolor')\n",
      "(6.0, 3.4, 4.5, 1.6, 'versicolor')\n",
      "(6.7, 3.1, 4.7, 1.5, 'versicolor')\n",
      "(6.3, 2.3, 4.4, 1.3, 'versicolor')\n",
      "(5.6, 3.0, 4.1, 1.3, 'versicolor')\n",
      "(5.5, 2.5, 4.0, 1.3, 'versicolor')\n",
      "(5.5, 2.6, 4.4, 1.2, 'versicolor')\n",
      "(6.1, 3.0, 4.6, 1.4, 'versicolor')\n",
      "(5.8, 2.6, 4.0, 1.2, 'versicolor')\n",
      "(5.0, 2.3, 3.3, 1.0, 'versicolor')\n",
      "(5.6, 2.7, 4.2, 1.3, 'versicolor')\n",
      "(5.7, 3.0, 4.2, 1.2, 'versicolor')\n",
      "(5.7, 2.9, 4.2, 1.3, 'versicolor')\n",
      "(6.2, 2.9, 4.3, 1.3, 'versicolor')\n",
      "(5.1, 2.5, 3.0, 1.1, 'versicolor')\n",
      "(5.7, 2.8, 4.1, 1.3, 'versicolor')\n",
      "(6.3, 3.3, 6.0, 2.5, 'virginica')\n",
      "(5.8, 2.7, 5.1, 1.9, 'virginica')\n",
      "(7.1, 3.0, 5.9, 2.1, 'virginica')\n",
      "(6.3, 2.9, 5.6, 1.8, 'virginica')\n",
      "(6.5, 3.0, 5.8, 2.2, 'virginica')\n",
      "(7.6, 3.0, 6.6, 2.1, 'virginica')\n",
      "(4.9, 2.5, 4.5, 1.7, 'virginica')\n",
      "(7.3, 2.9, 6.3, 1.8, 'virginica')\n",
      "(6.7, 2.5, 5.8, 1.8, 'virginica')\n",
      "(7.2, 3.6, 6.1, 2.5, 'virginica')\n",
      "(6.5, 3.2, 5.1, 2.0, 'virginica')\n",
      "(6.4, 2.7, 5.3, 1.9, 'virginica')\n",
      "(6.8, 3.0, 5.5, 2.1, 'virginica')\n",
      "(5.7, 2.5, 5.0, 2.0, 'virginica')\n",
      "(5.8, 2.8, 5.1, 2.4, 'virginica')\n",
      "(6.4, 3.2, 5.3, 2.3, 'virginica')\n",
      "(6.5, 3.0, 5.5, 1.8, 'virginica')\n",
      "(7.7, 3.8, 6.7, 2.2, 'virginica')\n",
      "(7.7, 2.6, 6.9, 2.3, 'virginica')\n",
      "(6.0, 2.2, 5.0, 1.5, 'virginica')\n",
      "(6.9, 3.2, 5.7, 2.3, 'virginica')\n",
      "(5.6, 2.8, 4.9, 2.0, 'virginica')\n",
      "(7.7, 2.8, 6.7, 2.0, 'virginica')\n",
      "(6.3, 2.7, 4.9, 1.8, 'virginica')\n",
      "(6.7, 3.3, 5.7, 2.1, 'virginica')\n",
      "(7.2, 3.2, 6.0, 1.8, 'virginica')\n",
      "(6.2, 2.8, 4.8, 1.8, 'virginica')\n",
      "(6.1, 3.0, 4.9, 1.8, 'virginica')\n",
      "(6.4, 2.8, 5.6, 2.1, 'virginica')\n",
      "(7.2, 3.0, 5.8, 1.6, 'virginica')\n",
      "(7.4, 2.8, 6.1, 1.9, 'virginica')\n",
      "(7.9, 3.8, 6.4, 2.0, 'virginica')\n",
      "(6.4, 2.8, 5.6, 2.2, 'virginica')\n",
      "(6.3, 2.8, 5.1, 1.5, 'virginica')\n",
      "(6.1, 2.6, 5.6, 1.4, 'virginica')\n",
      "(7.7, 3.0, 6.1, 2.3, 'virginica')\n",
      "(6.3, 3.4, 5.6, 2.4, 'virginica')\n",
      "(6.4, 3.1, 5.5, 1.8, 'virginica')\n",
      "(6.0, 3.0, 4.8, 1.8, 'virginica')\n",
      "(6.9, 3.1, 5.4, 2.1, 'virginica')\n",
      "(6.7, 3.1, 5.6, 2.4, 'virginica')\n",
      "(6.9, 3.1, 5.1, 2.3, 'virginica')\n",
      "(5.8, 2.7, 5.1, 1.9, 'virginica')\n",
      "(6.8, 3.2, 5.9, 2.3, 'virginica')\n",
      "(6.7, 3.3, 5.7, 2.5, 'virginica')\n",
      "(6.7, 3.0, 5.2, 2.3, 'virginica')\n",
      "(6.3, 2.5, 5.0, 1.9, 'virginica')\n",
      "(6.5, 3.0, 5.2, 2.0, 'virginica')\n",
      "(6.2, 3.4, 5.4, 2.3, 'virginica')\n",
      "(5.9, 3.0, 5.1, 1.8, 'virginica')\n"
     ]
    }
   ],
   "source": [
    "try:\n",
    "    query  = \"select * from iris;\"     # * means all columns\n",
    "    cur = mydb.cursor()\n",
    "    cur.execute(query)\n",
    "    for i in cur.fetchall():     #fetchall fet the data\n",
    "        print(i)\n",
    "\n",
    "except Exception as e:\n",
    "    mydb.close()\n",
    "    print(str(e))"
   ]
  },
  {
   "cell_type": "markdown",
   "metadata": {},
   "source": [
    "### Insert data in bulk"
   ]
  },
  {
   "cell_type": "code",
   "execution_count": 100,
   "metadata": {},
   "outputs": [
    {
     "data": {
      "text/plain": [
       "True"
      ]
     },
     "execution_count": 100,
     "metadata": {},
     "output_type": "execute_result"
    }
   ],
   "source": [
    "mydb = connection.connect(host = \"localhost\", database = \"Student\", user = \"root\", password = \"Tushar0420&\", use_pure = True)\n",
    "mydb.is_connected()"
   ]
  },
  {
   "cell_type": "code",
   "execution_count": 98,
   "metadata": {},
   "outputs": [
    {
     "name": "stdout",
     "output_type": "stream",
     "text": [
      "['1,8745,75.2,133526,7,58.2']\n",
      "<class 'list'>\n",
      "['2,4565,80,2322,5,65.2']\n",
      "<class 'list'>\n",
      "['3,5636,86,25555,6,95.8']\n",
      "<class 'list'>\n",
      "['4,54424,15.666,555,88.656,8559.2665']\n",
      "<class 'list'>\n",
      "['5,55456,6565,565,96.65,9653.3256']\n",
      "<class 'list'>\n",
      "all the data inserted\n"
     ]
    }
   ],
   "source": [
    "import pandas as pd\n",
    "import csv\n",
    "\n",
    "try:\n",
    "    cursor = mydb.cursor()\n",
    "    query = 'DROP TABLE IF EXISTS student_table;'\n",
    "    cursor.execute(query)\n",
    "\n",
    "    query = \"CREATE TABLE student_table(index_num INT(10), name INT(20), percentage float(10,5), number INT(10), class float(10,5), section float(10,5) )\"\n",
    "    cursor = mydb.cursor()\n",
    "    cursor.execute(query)\n",
    "    \n",
    "    with open('mydata.data', 'r') as data:\n",
    "        next(data)      # to make the cursor in next line\n",
    "        data_csv = csv.reader(data, delimiter=\"\\n\")  # use to read other file in csv formate\n",
    "        for i in data_csv:      # this is for converting list into string\n",
    "            print(i)\n",
    "            print(type(i))\n",
    "            cursor.execute(\"insert into student_table values({})\".format(str(i[0])))\n",
    "        print(\"all the data inserted\")\n",
    "    \n",
    "    mydb.commit()\n",
    "    mydb.close()\n",
    "\n",
    "except Exception as e:\n",
    "    mydb.close()\n",
    "    print(str(e))"
   ]
  },
  {
   "cell_type": "code",
   "execution_count": 101,
   "metadata": {},
   "outputs": [
    {
     "name": "stdout",
     "output_type": "stream",
     "text": [
      "(1, 8745, 75.2, 133526, 7.0, 58.2)\n",
      "(2, 4565, 80.0, 2322, 5.0, 65.2)\n",
      "(3, 5636, 86.0, 25555, 6.0, 95.8)\n",
      "(4, 54424, 15.666, 555, 88.656, 8559.2666)\n",
      "(5, 55456, 6565.0, 565, 96.65, 9653.3252)\n"
     ]
    }
   ],
   "source": [
    "try:\n",
    "    query  = \"select * from student_table;\"     # * means all columns\n",
    "    cur = mydb.cursor()\n",
    "    cur.execute(query)\n",
    "    for i in cur.fetchall():     #fetchall fet the data\n",
    "        print(i)\n",
    "    mydb.close()\n",
    "\n",
    "except Exception as e:\n",
    "    mydb.close()\n",
    "    print(str(e))"
   ]
  },
  {
   "cell_type": "markdown",
   "metadata": {},
   "source": [
    "### Delete Record from table"
   ]
  },
  {
   "cell_type": "code",
   "execution_count": 3,
   "metadata": {},
   "outputs": [
    {
     "data": {
      "text/plain": [
       "True"
      ]
     },
     "execution_count": 3,
     "metadata": {},
     "output_type": "execute_result"
    }
   ],
   "source": [
    "mydb = connection.connect(host = \"localhost\", database = \"Student\", user = \"root\", password = \"Tushar0420&\", use_pure = True)\n",
    "mydb.is_connected()"
   ]
  },
  {
   "cell_type": "code",
   "execution_count": 4,
   "metadata": {},
   "outputs": [],
   "source": [
    "try:\n",
    "    query = \"DELETE FROM student_table WHERE number = 133526\"    \n",
    "    cursor = mydb.cursor()\n",
    "    cursor.execute(query)\n",
    "    mydb.commit()\n",
    "    mydb.close()\n",
    "    \n",
    "except Exception as e:\n",
    "    print(str(e))\n",
    "    mydb.close()"
   ]
  },
  {
   "cell_type": "markdown",
   "metadata": {},
   "source": [
    "### Update Table"
   ]
  },
  {
   "cell_type": "code",
   "execution_count": 21,
   "metadata": {},
   "outputs": [
    {
     "data": {
      "text/plain": [
       "True"
      ]
     },
     "execution_count": 21,
     "metadata": {},
     "output_type": "execute_result"
    }
   ],
   "source": [
    "mydb = connection.connect(host = \"localhost\", database = \"Student\", user = \"root\", password = \"Tushar0420&\", use_pure = True)\n",
    "mydb.is_connected()"
   ]
  },
  {
   "cell_type": "code",
   "execution_count": 20,
   "metadata": {},
   "outputs": [],
   "source": [
    "try:\n",
    "    query = \"UPDATE student_table SET number = 2653, class= 56, name = 545 where index_num = 2\"\n",
    "    cur = mydb.cursor()\n",
    "    cur.execute(query)\n",
    "    mydb.commit()\n",
    "    mydb.close()\n",
    "\n",
    "except Exception as e:\n",
    "    print(str(e))\n",
    "    mydb.close()"
   ]
  },
  {
   "cell_type": "markdown",
   "metadata": {},
   "source": [
    "### Select with where condition or find in table"
   ]
  },
  {
   "cell_type": "code",
   "execution_count": 23,
   "metadata": {},
   "outputs": [
    {
     "data": {
      "text/plain": [
       "True"
      ]
     },
     "execution_count": 23,
     "metadata": {},
     "output_type": "execute_result"
    }
   ],
   "source": [
    "mydb = connection.connect(host = \"localhost\", database = \"Student\", user = \"root\", password = \"Tushar0420&\", use_pure = True)\n",
    "mydb.is_connected()"
   ]
  },
  {
   "cell_type": "code",
   "execution_count": 24,
   "metadata": {},
   "outputs": [
    {
     "name": "stdout",
     "output_type": "stream",
     "text": [
      "(3, 545, 86.0, 56532653, 56.0, 95.8)\n",
      "(4, 545, 15.666, 56532653, 56.0, 8559.2666)\n",
      "(5, 545, 6565.0, 56532653, 56.0, 9653.3252)\n"
     ]
    }
   ],
   "source": [
    "try:\n",
    "    query  = \"select * from student_table where number = 56532653;\"     # * means all columns\n",
    "    cur = mydb.cursor()\n",
    "    cur.execute(query)\n",
    "    for i in cur.fetchall():     #fetchall fet the data\n",
    "        print(i)\n",
    "    mydb.close()\n",
    "\n",
    "except Exception as e:\n",
    "    mydb.close()\n",
    "    print(str(e))"
   ]
  }
 ],
 "metadata": {
  "interpreter": {
   "hash": "11938c6bc6919ae2720b4d5011047913343b08a43b18698fd82dedb0d4417594"
  },
  "kernelspec": {
   "display_name": "Python 3.9.7 64-bit",
   "language": "python",
   "name": "python3"
  },
  "language_info": {
   "codemirror_mode": {
    "name": "ipython",
    "version": 3
   },
   "file_extension": ".py",
   "mimetype": "text/x-python",
   "name": "python",
   "nbconvert_exporter": "python",
   "pygments_lexer": "ipython3",
   "version": "3.9.7"
  },
  "orig_nbformat": 4
 },
 "nbformat": 4,
 "nbformat_minor": 2
}
